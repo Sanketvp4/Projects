{
  "nbformat": 4,
  "nbformat_minor": 0,
  "metadata": {
    "colab": {
      "provenance": [],
      "include_colab_link": true
    },
    "kernelspec": {
      "name": "python3",
      "display_name": "Python 3"
    },
    "language_info": {
      "name": "python"
    }
  },
  "cells": [
    {
      "cell_type": "markdown",
      "metadata": {
        "id": "view-in-github",
        "colab_type": "text"
      },
      "source": [
        "<a href=\"https://colab.research.google.com/github/Sanketvp4/Projects/blob/main/Producer_Consumer_Problem.ipynb\" target=\"_parent\"><img src=\"https://colab.research.google.com/assets/colab-badge.svg\" alt=\"Open In Colab\"/></a>"
      ]
    },
    {
      "cell_type": "code",
      "metadata": {
        "colab": {
          "base_uri": "https://localhost:8080/"
        },
        "id": "yUlzEeBN_gA3",
        "outputId": "bd55a44f-d7d1-4724-db3c-9f7bdc041b92"
      },
      "source": [
        "import threading\n",
        "import time\n",
        " \n",
        "# Shared Memory variables\n",
        "CAPACITY = 10\n",
        "buffer = [-1 for i in range(CAPACITY)]\n",
        "in_index = 0\n",
        "out_index = 0\n",
        " \n",
        "# Declaring Semaphores\n",
        "mutex = threading.Semaphore()\n",
        "empty = threading.Semaphore(CAPACITY)\n",
        "full = threading.Semaphore(0)\n",
        " \n",
        "# Producer Thread Class\n",
        "class Producer(threading.Thread):\n",
        "  def run(self):\n",
        "     \n",
        "    global CAPACITY, buffer, in_index, out_index\n",
        "    global mutex, empty, full\n",
        "     \n",
        "    items_produced = 0\n",
        "    counter = 0\n",
        "     \n",
        "    while items_produced < 20:\n",
        "      empty.acquire()\n",
        "      mutex.acquire()\n",
        "       \n",
        "      counter += 1\n",
        "      buffer[in_index] = counter\n",
        "      in_index = (in_index + 1)%CAPACITY\n",
        "      print(\"Producer produced : \", counter)\n",
        "       \n",
        "      mutex.release()\n",
        "      full.release()\n",
        "       \n",
        "      time.sleep(1)\n",
        "       \n",
        "      items_produced += 1\n",
        " \n",
        "# Consumer Thread Class\n",
        "class Consumer(threading.Thread):\n",
        "  def run(self):\n",
        "     \n",
        "    global CAPACITY, buffer, in_index, out_index, counter\n",
        "    global mutex, empty, full\n",
        "     \n",
        "    items_consumed = 0\n",
        "     \n",
        "    while items_consumed < 20:\n",
        "      full.acquire()\n",
        "      mutex.acquire()\n",
        "       \n",
        "      item = buffer[out_index]\n",
        "      out_index = (out_index + 1)%CAPACITY\n",
        "      print(\"Consumer consumed item : \", item)\n",
        "       \n",
        "      mutex.release()\n",
        "      empty.release()      \n",
        "       \n",
        "      time.sleep(2.5)\n",
        "       \n",
        "      items_consumed += 1\n",
        " \n",
        "# Creating Threads\n",
        "producer = Producer()\n",
        "consumer = Consumer()\n",
        " \n",
        "# Starting Threads\n",
        "consumer.start()\n",
        "producer.start()\n",
        " \n",
        "# Waiting for threads to complete\n",
        "producer.join()\n",
        "consumer.join()"
      ],
      "execution_count": null,
      "outputs": [
        {
          "output_type": "stream",
          "name": "stdout",
          "text": [
            "Producer produced :  1\n",
            "Consumer consumed item :  1\n",
            "Producer produced :  2\n",
            "Producer produced :  3\n",
            "Consumer consumed item :  2\n",
            "Producer produced :  4\n",
            "Producer produced :  5\n",
            "Consumer consumed item :  3\n",
            "Producer produced :  6\n",
            "Producer produced :  7\n",
            "Producer produced :  8\n",
            "Consumer consumed item :  4\n",
            "Producer produced :  9\n",
            "Producer produced :  10\n",
            "Consumer consumed item :  5\n",
            "Producer produced :  11\n",
            "Producer produced :  12\n",
            "Producer produced :  13\n",
            "Consumer consumed item :  6\n",
            "Producer produced :  14\n",
            "Producer produced :  15\n",
            "Consumer consumed item :  7\n",
            "Producer produced :  16\n",
            "Producer produced :  17\n",
            "Consumer consumed item :  8\n",
            "Producer produced :  18\n",
            "Consumer consumed item :  9\n",
            "Producer produced :  19\n",
            "Consumer consumed item :  10\n",
            "Producer produced :  20\n",
            "Consumer consumed item :  11\n",
            "Consumer consumed item :  12\n",
            "Consumer consumed item :  13\n",
            "Consumer consumed item :  14\n",
            "Consumer consumed item :  15\n",
            "Consumer consumed item :  16\n",
            "Consumer consumed item :  17\n",
            "Consumer consumed item :  18\n",
            "Consumer consumed item :  19\n",
            "Consumer consumed item :  20\n"
          ]
        }
      ]
    }
  ]
}